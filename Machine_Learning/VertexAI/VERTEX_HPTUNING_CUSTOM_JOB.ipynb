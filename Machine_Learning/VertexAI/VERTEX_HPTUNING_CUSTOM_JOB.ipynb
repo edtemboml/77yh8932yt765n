{
 "cells": [
  {
   "cell_type": "code",
   "execution_count": 1,
   "id": "0da6943c-fe62-467f-83a6-2fad927831b6",
   "metadata": {},
   "outputs": [
    {
     "name": "stdout",
     "output_type": "stream",
     "text": [
      "Requirement already satisfied: google-cloud-aiplatform in /opt/conda/lib/python3.7/site-packages (1.17.1)\n",
      "Requirement already satisfied: google-api-core[grpc]!=2.0.*,!=2.1.*,!=2.2.*,!=2.3.*,!=2.4.*,!=2.5.*,!=2.6.*,!=2.7.*,<3.0.0dev,>=1.32.0 in /opt/conda/lib/python3.7/site-packages (from google-cloud-aiplatform) (2.8.1)\n",
      "Requirement already satisfied: proto-plus<2.0.0dev,>=1.22.0 in /opt/conda/lib/python3.7/site-packages (from google-cloud-aiplatform) (1.22.1)\n",
      "Requirement already satisfied: protobuf<5.0.0dev,>=3.19.0 in /opt/conda/lib/python3.7/site-packages (from google-cloud-aiplatform) (3.19.5)\n",
      "Requirement already satisfied: google-cloud-bigquery<3.0.0dev,>=1.15.0 in /opt/conda/lib/python3.7/site-packages (from google-cloud-aiplatform) (2.34.4)\n",
      "Requirement already satisfied: google-cloud-resource-manager<3.0.0dev,>=1.3.3 in /opt/conda/lib/python3.7/site-packages (from google-cloud-aiplatform) (1.6.1)\n",
      "Requirement already satisfied: google-cloud-storage<3.0.0dev,>=1.32.0 in /opt/conda/lib/python3.7/site-packages (from google-cloud-aiplatform) (2.5.0)\n",
      "Requirement already satisfied: packaging<22.0.0dev,>=14.3 in /opt/conda/lib/python3.7/site-packages (from google-cloud-aiplatform) (21.3)\n",
      "Requirement already satisfied: googleapis-common-protos<2.0dev,>=1.56.2 in /opt/conda/lib/python3.7/site-packages (from google-api-core[grpc]!=2.0.*,!=2.1.*,!=2.2.*,!=2.3.*,!=2.4.*,!=2.5.*,!=2.6.*,!=2.7.*,<3.0.0dev,>=1.32.0->google-cloud-aiplatform) (1.56.4)\n",
      "Requirement already satisfied: requests<3.0.0dev,>=2.18.0 in /opt/conda/lib/python3.7/site-packages (from google-api-core[grpc]!=2.0.*,!=2.1.*,!=2.2.*,!=2.3.*,!=2.4.*,!=2.5.*,!=2.6.*,!=2.7.*,<3.0.0dev,>=1.32.0->google-cloud-aiplatform) (2.28.1)\n",
      "Requirement already satisfied: google-auth<3.0dev,>=1.25.0 in /opt/conda/lib/python3.7/site-packages (from google-api-core[grpc]!=2.0.*,!=2.1.*,!=2.2.*,!=2.3.*,!=2.4.*,!=2.5.*,!=2.6.*,!=2.7.*,<3.0.0dev,>=1.32.0->google-cloud-aiplatform) (1.35.0)\n",
      "Requirement already satisfied: grpcio-status<2.0dev,>=1.33.2 in /opt/conda/lib/python3.7/site-packages (from google-api-core[grpc]!=2.0.*,!=2.1.*,!=2.2.*,!=2.3.*,!=2.4.*,!=2.5.*,!=2.6.*,!=2.7.*,<3.0.0dev,>=1.32.0->google-cloud-aiplatform) (1.48.1)\n",
      "Requirement already satisfied: grpcio<2.0dev,>=1.33.2 in /opt/conda/lib/python3.7/site-packages (from google-api-core[grpc]!=2.0.*,!=2.1.*,!=2.2.*,!=2.3.*,!=2.4.*,!=2.5.*,!=2.6.*,!=2.7.*,<3.0.0dev,>=1.32.0->google-cloud-aiplatform) (1.48.1)\n",
      "Requirement already satisfied: python-dateutil<3.0dev,>=2.7.2 in /opt/conda/lib/python3.7/site-packages (from google-cloud-bigquery<3.0.0dev,>=1.15.0->google-cloud-aiplatform) (2.8.2)\n",
      "Requirement already satisfied: google-cloud-core<3.0.0dev,>=1.4.1 in /opt/conda/lib/python3.7/site-packages (from google-cloud-bigquery<3.0.0dev,>=1.15.0->google-cloud-aiplatform) (2.3.2)\n",
      "Requirement already satisfied: google-resumable-media<3.0dev,>=0.6.0 in /opt/conda/lib/python3.7/site-packages (from google-cloud-bigquery<3.0.0dev,>=1.15.0->google-cloud-aiplatform) (2.3.3)\n",
      "Requirement already satisfied: grpc-google-iam-v1<1.0.0dev,>=0.12.4 in /opt/conda/lib/python3.7/site-packages (from google-cloud-resource-manager<3.0.0dev,>=1.3.3->google-cloud-aiplatform) (0.12.4)\n",
      "Requirement already satisfied: pyparsing!=3.0.5,>=2.0.2 in /opt/conda/lib/python3.7/site-packages (from packaging<22.0.0dev,>=14.3->google-cloud-aiplatform) (3.0.9)\n",
      "Requirement already satisfied: rsa<5,>=3.1.4 in /opt/conda/lib/python3.7/site-packages (from google-auth<3.0dev,>=1.25.0->google-api-core[grpc]!=2.0.*,!=2.1.*,!=2.2.*,!=2.3.*,!=2.4.*,!=2.5.*,!=2.6.*,!=2.7.*,<3.0.0dev,>=1.32.0->google-cloud-aiplatform) (4.9)\n",
      "Requirement already satisfied: pyasn1-modules>=0.2.1 in /opt/conda/lib/python3.7/site-packages (from google-auth<3.0dev,>=1.25.0->google-api-core[grpc]!=2.0.*,!=2.1.*,!=2.2.*,!=2.3.*,!=2.4.*,!=2.5.*,!=2.6.*,!=2.7.*,<3.0.0dev,>=1.32.0->google-cloud-aiplatform) (0.2.7)\n",
      "Requirement already satisfied: setuptools>=40.3.0 in /opt/conda/lib/python3.7/site-packages (from google-auth<3.0dev,>=1.25.0->google-api-core[grpc]!=2.0.*,!=2.1.*,!=2.2.*,!=2.3.*,!=2.4.*,!=2.5.*,!=2.6.*,!=2.7.*,<3.0.0dev,>=1.32.0->google-cloud-aiplatform) (59.8.0)\n",
      "Requirement already satisfied: six>=1.9.0 in /opt/conda/lib/python3.7/site-packages (from google-auth<3.0dev,>=1.25.0->google-api-core[grpc]!=2.0.*,!=2.1.*,!=2.2.*,!=2.3.*,!=2.4.*,!=2.5.*,!=2.6.*,!=2.7.*,<3.0.0dev,>=1.32.0->google-cloud-aiplatform) (1.15.0)\n",
      "Requirement already satisfied: cachetools<5.0,>=2.0.0 in /opt/conda/lib/python3.7/site-packages (from google-auth<3.0dev,>=1.25.0->google-api-core[grpc]!=2.0.*,!=2.1.*,!=2.2.*,!=2.3.*,!=2.4.*,!=2.5.*,!=2.6.*,!=2.7.*,<3.0.0dev,>=1.32.0->google-cloud-aiplatform) (4.2.4)\n",
      "Requirement already satisfied: google-crc32c<2.0dev,>=1.0 in /opt/conda/lib/python3.7/site-packages (from google-resumable-media<3.0dev,>=0.6.0->google-cloud-bigquery<3.0.0dev,>=1.15.0->google-cloud-aiplatform) (1.1.2)\n",
      "Requirement already satisfied: urllib3<1.27,>=1.21.1 in /opt/conda/lib/python3.7/site-packages (from requests<3.0.0dev,>=2.18.0->google-api-core[grpc]!=2.0.*,!=2.1.*,!=2.2.*,!=2.3.*,!=2.4.*,!=2.5.*,!=2.6.*,!=2.7.*,<3.0.0dev,>=1.32.0->google-cloud-aiplatform) (1.26.11)\n",
      "Requirement already satisfied: certifi>=2017.4.17 in /opt/conda/lib/python3.7/site-packages (from requests<3.0.0dev,>=2.18.0->google-api-core[grpc]!=2.0.*,!=2.1.*,!=2.2.*,!=2.3.*,!=2.4.*,!=2.5.*,!=2.6.*,!=2.7.*,<3.0.0dev,>=1.32.0->google-cloud-aiplatform) (2022.9.14)\n",
      "Requirement already satisfied: idna<4,>=2.5 in /opt/conda/lib/python3.7/site-packages (from requests<3.0.0dev,>=2.18.0->google-api-core[grpc]!=2.0.*,!=2.1.*,!=2.2.*,!=2.3.*,!=2.4.*,!=2.5.*,!=2.6.*,!=2.7.*,<3.0.0dev,>=1.32.0->google-cloud-aiplatform) (3.3)\n",
      "Requirement already satisfied: charset-normalizer<3,>=2 in /opt/conda/lib/python3.7/site-packages (from requests<3.0.0dev,>=2.18.0->google-api-core[grpc]!=2.0.*,!=2.1.*,!=2.2.*,!=2.3.*,!=2.4.*,!=2.5.*,!=2.6.*,!=2.7.*,<3.0.0dev,>=1.32.0->google-cloud-aiplatform) (2.1.1)\n",
      "Requirement already satisfied: cffi>=1.0.0 in /opt/conda/lib/python3.7/site-packages (from google-crc32c<2.0dev,>=1.0->google-resumable-media<3.0dev,>=0.6.0->google-cloud-bigquery<3.0.0dev,>=1.15.0->google-cloud-aiplatform) (1.15.1)\n",
      "Requirement already satisfied: pyasn1<0.5.0,>=0.4.6 in /opt/conda/lib/python3.7/site-packages (from pyasn1-modules>=0.2.1->google-auth<3.0dev,>=1.25.0->google-api-core[grpc]!=2.0.*,!=2.1.*,!=2.2.*,!=2.3.*,!=2.4.*,!=2.5.*,!=2.6.*,!=2.7.*,<3.0.0dev,>=1.32.0->google-cloud-aiplatform) (0.4.8)\n",
      "Requirement already satisfied: pycparser in /opt/conda/lib/python3.7/site-packages (from cffi>=1.0.0->google-crc32c<2.0dev,>=1.0->google-resumable-media<3.0dev,>=0.6.0->google-cloud-bigquery<3.0.0dev,>=1.15.0->google-cloud-aiplatform) (2.21)\n"
     ]
    }
   ],
   "source": [
    "!pip3 install google-cloud-aiplatform --upgrade --user\n"
   ]
  },
  {
   "cell_type": "code",
   "execution_count": 1,
   "id": "df1d0fa9-d9bc-4d3f-99c8-6a2ad8ac4b51",
   "metadata": {},
   "outputs": [],
   "source": [
    "from google.cloud import aiplatform\n",
    "from google.cloud.aiplatform import hyperparameter_tuning as hpt"
   ]
  },
  {
   "cell_type": "code",
   "execution_count": 8,
   "id": "39b97e22-e3b4-47fa-bedf-00ad0ba264c4",
   "metadata": {},
   "outputs": [],
   "source": [
    "# The spec of the worker pools including machine type and Docker image\n",
    "# Be sure to replace IMAGE_URI with the path to your Docker image in GCR\n",
    "worker_pool_specs = [{\n",
    "    \"machine_spec\": {\n",
    "        \"machine_type\": \"n1-standard-4\",\n",
    "        \"accelerator_type\": \"NVIDIA_TESLA_T4\",\n",
    "        \"accelerator_count\": 1\n",
    "    },\n",
    "    \"replica_count\": 1,\n",
    "    \"container_spec\": {\n",
    "        \"image_uri\": \"gcr.io/qwiklabs-gcp-01-61f33771c1c9/horse-human:hypertune\"   # Replace the {IMAGE_URI} with your Docker image path\n",
    "    }\n",
    "}]\n",
    "# Dicionary representing metrics to optimize.\n",
    "# The dictionary key is the metric_id, which is reported by your training job,\n",
    "# And the dictionary value is the optimization goal of the metric.\n",
    "metric_spec={'accuracy':'maximize'}\n",
    "# Dictionary representing parameters to optimize.\n",
    "# The dictionary key is the parameter_id, which is passed into your training\n",
    "# job as a command line argument,\n",
    "# And the dictionary value is the parameter specification of the metric.\n",
    "parameter_spec = {\n",
    "    \"learning_rate\": hpt.DoubleParameterSpec(min=0.001, max=1, scale=\"log\"),\n",
    "    \"momentum\": hpt.DoubleParameterSpec(min=0, max=1, scale=\"linear\"),\n",
    "    \"num_neurons\": hpt.DiscreteParameterSpec(values=[64, 128, 512], scale=None)\n",
    "}"
   ]
  },
  {
   "cell_type": "code",
   "execution_count": 3,
   "id": "f19d54b0-7c10-4785-b2f3-0b1c34097f33",
   "metadata": {},
   "outputs": [
    {
     "name": "stdout",
     "output_type": "stream",
     "text": [
      "Creating gs://qwiklabs-gcp-01-61f33771c1c9/...\n",
      "Copying gs://artifacts.qwiklabs-gcp-01-61f33771c1c9.appspot.com/containers/images/sha256:09c222e7ff049ba0c4a9538dc043c93216c670f9f97448f2251b28bd86f54655 [Content-Type=application/octet-stream]...\n",
      "Copying gs://artifacts.qwiklabs-gcp-01-61f33771c1c9.appspot.com/containers/images/sha256:0c9c6fc70f167fb903c2241a4e3023f475c9ba1f994eac0c2ea621bfc766ebaa [Content-Type=application/octet-stream]...\n",
      "Copying gs://artifacts.qwiklabs-gcp-01-61f33771c1c9.appspot.com/containers/images/sha256:14d7996407dedf22904703489ffdf6e46e484e7148153902c82743bf5897bce2 [Content-Type=application/octet-stream]...\n",
      "Copying gs://artifacts.qwiklabs-gcp-01-61f33771c1c9.appspot.com/containers/images/sha256:174d792fb622b52ff6a1754bf5df332cce32b15f5cf667212767e1b6767b2943 [Content-Type=application/octet-stream]...\n",
      "\\ [4 files][  1.0 GiB/  1.0 GiB]                                                \n",
      "==> NOTE: You are performing a sequence of gsutil operations that may\n",
      "run significantly faster if you instead use gsutil -m cp ... Please\n",
      "see the -m section under \"gsutil help options\" for further information\n",
      "about when gsutil -m can be advantageous.\n",
      "\n",
      "Copying gs://artifacts.qwiklabs-gcp-01-61f33771c1c9.appspot.com/containers/images/sha256:1ced637de50b87ce071d909ed7455f3cca7e9916ed3765d9520d5b2de7e203c0 [Content-Type=application/octet-stream]...\n",
      "Copying gs://artifacts.qwiklabs-gcp-01-61f33771c1c9.appspot.com/containers/images/sha256:1e71d5e9923d579d2317783629ecd34a64a364ee29481d14a5d30af725149785 [Content-Type=application/octet-stream]...\n",
      "Copying gs://artifacts.qwiklabs-gcp-01-61f33771c1c9.appspot.com/containers/images/sha256:25fa05cd42bd8fabb25d2a6f3f8c9f7ab34637903d00fd2ed1c1d0fa980427dd [Content-Type=application/octet-stream]...\n",
      "Copying gs://artifacts.qwiklabs-gcp-01-61f33771c1c9.appspot.com/containers/images/sha256:2d6e353a95ec31e1d24b8f8a7fd2ed4e418465d789165f835ee005620d10b5cd [Content-Type=application/octet-stream]...\n",
      "Copying gs://artifacts.qwiklabs-gcp-01-61f33771c1c9.appspot.com/containers/images/sha256:520be5017b4d4ce6304e1eaf2092fcb648a8ca8aa06db26a3099f7b1246d29a5 [Content-Type=application/octet-stream]...\n",
      "Copying gs://artifacts.qwiklabs-gcp-01-61f33771c1c9.appspot.com/containers/images/sha256:56646f115483e1dfb463f36eefa4dac6df951f38154b1f6bb018aca03729abd3 [Content-Type=application/octet-stream]...\n",
      "Copying gs://artifacts.qwiklabs-gcp-01-61f33771c1c9.appspot.com/containers/images/sha256:595b1c49222a39a4b47458ba43509b00725eecc492c75fa317aca6eed0b80f4b [Content-Type=application/octet-stream]...\n",
      "Copying gs://artifacts.qwiklabs-gcp-01-61f33771c1c9.appspot.com/containers/images/sha256:5f8143275aca3529b066b6684af330992ce8213c6443f1ce87d4e705d399d597 [Content-Type=application/octet-stream]...\n",
      "Copying gs://artifacts.qwiklabs-gcp-01-61f33771c1c9.appspot.com/containers/images/sha256:762ff1eb7f16c8f613e466deab699f3f9341854623409af1ffcde554bfee49f8 [Content-Type=application/octet-stream]...\n",
      "Copying gs://artifacts.qwiklabs-gcp-01-61f33771c1c9.appspot.com/containers/images/sha256:798922b52524030ee127bb4dac3b28f4ab1f5a96c0d31399108c2aedd027237a [Content-Type=application/octet-stream]...\n",
      "Copying gs://artifacts.qwiklabs-gcp-01-61f33771c1c9.appspot.com/containers/images/sha256:7bc1690abd5950f9a685755e0244196e5d143b0a30f34260cc369776790447b9 [Content-Type=application/octet-stream]...\n",
      "Copying gs://artifacts.qwiklabs-gcp-01-61f33771c1c9.appspot.com/containers/images/sha256:7e298b6919887a12ffe0499f5bb9cb1e95b9aba046143a1ce4c4dc11df4012f0 [Content-Type=application/octet-stream]...\n",
      "Copying gs://artifacts.qwiklabs-gcp-01-61f33771c1c9.appspot.com/containers/images/sha256:80208bd6f7fbd2768fd9e47d114aa9e78b1685cb20268fe8dd0277e4acb956c3 [Content-Type=application/octet-stream]...\n",
      "Copying gs://artifacts.qwiklabs-gcp-01-61f33771c1c9.appspot.com/containers/images/sha256:9d1427033824da2c0f3792704618e2d1dad6746eedb371b6356b9fa541ca025d [Content-Type=application/octet-stream]...\n",
      "Copying gs://artifacts.qwiklabs-gcp-01-61f33771c1c9.appspot.com/containers/images/sha256:a0b4e3500b29a1cfbd81a0a976b53a66fb691cf9eec8e900f82fd2dca6fc43f6 [Content-Type=application/octet-stream]...\n",
      "Copying gs://artifacts.qwiklabs-gcp-01-61f33771c1c9.appspot.com/containers/images/sha256:ab6e5a9c78eebb4cf3fa9be3929cad71bff22e6041757a98fb5a1e90848fc39d [Content-Type=application/octet-stream]...\n",
      "Copying gs://artifacts.qwiklabs-gcp-01-61f33771c1c9.appspot.com/containers/images/sha256:ae6048a3aec1254bd985f8392843d18fbda22e283748ff61eb9d31141ab7afd9 [Content-Type=application/octet-stream]...\n",
      "Copying gs://artifacts.qwiklabs-gcp-01-61f33771c1c9.appspot.com/containers/images/sha256:b6c7eb38f366652de9f5102f23015036fc58e69fb5c240263210480a2f9527e1 [Content-Type=application/octet-stream]...\n",
      "Copying gs://artifacts.qwiklabs-gcp-01-61f33771c1c9.appspot.com/containers/images/sha256:b83c16bef138330475d50d641f29984b05c654ac10fb8cf209b27b2e9786ac1b [Content-Type=application/octet-stream]...\n",
      "Copying gs://artifacts.qwiklabs-gcp-01-61f33771c1c9.appspot.com/containers/images/sha256:bf6ae2a2e25036ac7cdeefdb2fd17eacecec2e7bdadc8fdd00e0ad3844d63a0e [Content-Type=application/octet-stream]...\n",
      "Copying gs://artifacts.qwiklabs-gcp-01-61f33771c1c9.appspot.com/containers/images/sha256:c0028679f0031e7800bbe83769d1c0613814cfa6b7910e1d661c65daedbc26ba [Content-Type=application/octet-stream]...\n",
      "Copying gs://artifacts.qwiklabs-gcp-01-61f33771c1c9.appspot.com/containers/images/sha256:c3c76be11512c2ad7f3a61acd179636af6b71613b4772f2f753eb0fdf8dc9dba [Content-Type=application/octet-stream]...\n",
      "Copying gs://artifacts.qwiklabs-gcp-01-61f33771c1c9.appspot.com/containers/images/sha256:d6897660f71d2d7a19f5032488bfd22d5647ecfcce9e8a6f4430f89e7c94b909 [Content-Type=application/octet-stream]...\n",
      "Copying gs://artifacts.qwiklabs-gcp-01-61f33771c1c9.appspot.com/containers/images/sha256:e2699a9f592bb62c828534ffa61b1ed81e34a034dc2ee91611baa0434f239ff9 [Content-Type=application/octet-stream]...\n",
      "Copying gs://artifacts.qwiklabs-gcp-01-61f33771c1c9.appspot.com/containers/images/sha256:e49679b748d5655466916eb5e6d0baf272db4c0914003f28ff6d98e72cd7f406 [Content-Type=application/octet-stream]...\n",
      "Copying gs://artifacts.qwiklabs-gcp-01-61f33771c1c9.appspot.com/containers/images/sha256:f20672704a7beafbdb046c1a5101205e0005e37cc9634f3f28c768a2c5322a6c [Content-Type=application/octet-stream]...\n",
      "Copying gs://artifacts.qwiklabs-gcp-01-61f33771c1c9.appspot.com/containers/images/sha256:f43e7d1c07e4788970c6474fc82513bad472ddff34ea7f0b5ceb6c51001a38d6 [Content-Type=application/octet-stream]...\n",
      "Copying gs://artifacts.qwiklabs-gcp-01-61f33771c1c9.appspot.com/containers/images/sha256:f5b4dd7682bc7f6091e52ae2a5a7105b6f8abdeeecaa2bf83acc0a58bca5c3ef [Content-Type=application/octet-stream]...\n",
      "Copying gs://artifacts.qwiklabs-gcp-01-61f33771c1c9.appspot.com/containers/images/sha256:f6f8f4265c8c291c89303b7b857f89073ea863ff64255c28d142de8b281f5ebc [Content-Type=application/octet-stream]...\n",
      "- [33 files][  5.7 GiB/  5.7 GiB]   30.8 MiB/s                                  \n",
      "==> NOTE: You are performing a sequence of gsutil operations that may\n",
      "run significantly faster if you instead use gsutil -m cp ... Please\n",
      "see the -m section under \"gsutil help options\" for further information\n",
      "about when gsutil -m can be advantageous.\n",
      "\n",
      "\n",
      "Operation completed over 33 objects/5.7 GiB.                                     \n"
     ]
    }
   ],
   "source": [
    "# Create a new bucket in us-central1 region\n",
    "!gsutil mb -p qwiklabs-gcp-01-61f33771c1c9 -l us-central1 -b on gs://qwiklabs-gcp-01-61f33771c1c9  # Replace <PROJECT_ID> with your project id\n",
    "# Copy the content in newly created bucket from the old one\n",
    "!gsutil cp -r gs://artifacts.qwiklabs-gcp-01-61f33771c1c9.appspot.com/* gs://qwiklabs-gcp-01-61f33771c1c9  # Replace <PROJECT_ID> with your project id"
   ]
  },
  {
   "cell_type": "code",
   "execution_count": 4,
   "id": "bb2442d9-f594-41e4-98e0-d38eab1dd38b",
   "metadata": {},
   "outputs": [],
   "source": [
    "# Replace (YOUR_BUCKET} with your project ID\n",
    "my_custom_job = aiplatform.CustomJob(display_name='horses-humans-sdk-job',\n",
    "                              worker_pool_specs=worker_pool_specs,\n",
    "                              staging_bucket='gs://qwiklabs-gcp-01-61f33771c1c9')"
   ]
  },
  {
   "cell_type": "code",
   "execution_count": 7,
   "id": "3f082a74-2dea-4929-8a10-fc7c1bec1fde",
   "metadata": {},
   "outputs": [
    {
     "name": "stdout",
     "output_type": "stream",
     "text": [
      "Creating HyperparameterTuningJob\n"
     ]
    },
    {
     "ename": "InvalidArgument",
     "evalue": "400 List of found errors:\t1.Field: hyperparameter_tuning_job.trial_job_spec.worker_pool_specs[0].container_spec.image_uri; Message: Invalid image URI.\t [field_violations {\n  field: \"hyperparameter_tuning_job.trial_job_spec.worker_pool_specs[0].container_spec.image_uri\"\n  description: \"Invalid image URI.\"\n}\n]",
     "output_type": "error",
     "traceback": [
      "\u001b[0;31m---------------------------------------------------------------------------\u001b[0m",
      "\u001b[0;31m_InactiveRpcError\u001b[0m                         Traceback (most recent call last)",
      "\u001b[0;32m/opt/conda/lib/python3.7/site-packages/google/api_core/grpc_helpers.py\u001b[0m in \u001b[0;36merror_remapped_callable\u001b[0;34m(*args, **kwargs)\u001b[0m\n\u001b[1;32m     56\u001b[0m         \u001b[0;32mtry\u001b[0m\u001b[0;34m:\u001b[0m\u001b[0;34m\u001b[0m\u001b[0;34m\u001b[0m\u001b[0m\n\u001b[0;32m---> 57\u001b[0;31m             \u001b[0;32mreturn\u001b[0m \u001b[0mcallable_\u001b[0m\u001b[0;34m(\u001b[0m\u001b[0;34m*\u001b[0m\u001b[0margs\u001b[0m\u001b[0;34m,\u001b[0m \u001b[0;34m**\u001b[0m\u001b[0mkwargs\u001b[0m\u001b[0;34m)\u001b[0m\u001b[0;34m\u001b[0m\u001b[0;34m\u001b[0m\u001b[0m\n\u001b[0m\u001b[1;32m     58\u001b[0m         \u001b[0;32mexcept\u001b[0m \u001b[0mgrpc\u001b[0m\u001b[0;34m.\u001b[0m\u001b[0mRpcError\u001b[0m \u001b[0;32mas\u001b[0m \u001b[0mexc\u001b[0m\u001b[0;34m:\u001b[0m\u001b[0;34m\u001b[0m\u001b[0;34m\u001b[0m\u001b[0m\n",
      "\u001b[0;32m/opt/conda/lib/python3.7/site-packages/grpc/_channel.py\u001b[0m in \u001b[0;36m__call__\u001b[0;34m(self, request, timeout, metadata, credentials, wait_for_ready, compression)\u001b[0m\n\u001b[1;32m    945\u001b[0m                                       wait_for_ready, compression)\n\u001b[0;32m--> 946\u001b[0;31m         \u001b[0;32mreturn\u001b[0m \u001b[0m_end_unary_response_blocking\u001b[0m\u001b[0;34m(\u001b[0m\u001b[0mstate\u001b[0m\u001b[0;34m,\u001b[0m \u001b[0mcall\u001b[0m\u001b[0;34m,\u001b[0m \u001b[0;32mFalse\u001b[0m\u001b[0;34m,\u001b[0m \u001b[0;32mNone\u001b[0m\u001b[0;34m)\u001b[0m\u001b[0;34m\u001b[0m\u001b[0;34m\u001b[0m\u001b[0m\n\u001b[0m\u001b[1;32m    947\u001b[0m \u001b[0;34m\u001b[0m\u001b[0m\n",
      "\u001b[0;32m/opt/conda/lib/python3.7/site-packages/grpc/_channel.py\u001b[0m in \u001b[0;36m_end_unary_response_blocking\u001b[0;34m(state, call, with_call, deadline)\u001b[0m\n\u001b[1;32m    848\u001b[0m     \u001b[0;32melse\u001b[0m\u001b[0;34m:\u001b[0m\u001b[0;34m\u001b[0m\u001b[0;34m\u001b[0m\u001b[0m\n\u001b[0;32m--> 849\u001b[0;31m         \u001b[0;32mraise\u001b[0m \u001b[0m_InactiveRpcError\u001b[0m\u001b[0;34m(\u001b[0m\u001b[0mstate\u001b[0m\u001b[0;34m)\u001b[0m\u001b[0;34m\u001b[0m\u001b[0;34m\u001b[0m\u001b[0m\n\u001b[0m\u001b[1;32m    850\u001b[0m \u001b[0;34m\u001b[0m\u001b[0m\n",
      "\u001b[0;31m_InactiveRpcError\u001b[0m: <_InactiveRpcError of RPC that terminated with:\n\tstatus = StatusCode.INVALID_ARGUMENT\n\tdetails = \"List of found errors:\t1.Field: hyperparameter_tuning_job.trial_job_spec.worker_pool_specs[0].container_spec.image_uri; Message: Invalid image URI.\t\"\n\tdebug_error_string = \"UNKNOWN:Error received from peer ipv4:173.194.193.95:443 {grpc_message:\"List of found errors:\\t1.Field: hyperparameter_tuning_job.trial_job_spec.worker_pool_specs[0].container_spec.image_uri; Message: Invalid image URI.\\t\", grpc_status:3, created_time:\"2022-09-23T01:31:50.896691176+00:00\"}\"\n>",
      "\nThe above exception was the direct cause of the following exception:\n",
      "\u001b[0;31mInvalidArgument\u001b[0m                           Traceback (most recent call last)",
      "\u001b[0;32m/tmp/ipykernel_19715/1618968778.py\u001b[0m in \u001b[0;36m<module>\u001b[0;34m\u001b[0m\n\u001b[1;32m      6\u001b[0m     \u001b[0mmax_trial_count\u001b[0m\u001b[0;34m=\u001b[0m\u001b[0;36m15\u001b[0m\u001b[0;34m,\u001b[0m\u001b[0;34m\u001b[0m\u001b[0;34m\u001b[0m\u001b[0m\n\u001b[1;32m      7\u001b[0m     parallel_trial_count=3)\n\u001b[0;32m----> 8\u001b[0;31m \u001b[0mhp_job\u001b[0m\u001b[0;34m.\u001b[0m\u001b[0mrun\u001b[0m\u001b[0;34m(\u001b[0m\u001b[0;34m)\u001b[0m\u001b[0;34m\u001b[0m\u001b[0;34m\u001b[0m\u001b[0m\n\u001b[0m",
      "\u001b[0;32m/opt/conda/lib/python3.7/site-packages/google/cloud/aiplatform/base.py\u001b[0m in \u001b[0;36mwrapper\u001b[0;34m(*args, **kwargs)\u001b[0m\n\u001b[1;32m    805\u001b[0m                 \u001b[0;32mif\u001b[0m \u001b[0mself\u001b[0m\u001b[0;34m:\u001b[0m\u001b[0;34m\u001b[0m\u001b[0;34m\u001b[0m\u001b[0m\n\u001b[1;32m    806\u001b[0m                     \u001b[0mVertexAiResourceNounWithFutureManager\u001b[0m\u001b[0;34m.\u001b[0m\u001b[0mwait\u001b[0m\u001b[0;34m(\u001b[0m\u001b[0mself\u001b[0m\u001b[0;34m)\u001b[0m\u001b[0;34m\u001b[0m\u001b[0;34m\u001b[0m\u001b[0m\n\u001b[0;32m--> 807\u001b[0;31m                 \u001b[0;32mreturn\u001b[0m \u001b[0mmethod\u001b[0m\u001b[0;34m(\u001b[0m\u001b[0;34m*\u001b[0m\u001b[0margs\u001b[0m\u001b[0;34m,\u001b[0m \u001b[0;34m**\u001b[0m\u001b[0mkwargs\u001b[0m\u001b[0;34m)\u001b[0m\u001b[0;34m\u001b[0m\u001b[0;34m\u001b[0m\u001b[0m\n\u001b[0m\u001b[1;32m    808\u001b[0m \u001b[0;34m\u001b[0m\u001b[0m\n\u001b[1;32m    809\u001b[0m             \u001b[0;31m# callbacks to call within the Future (in same Thread)\u001b[0m\u001b[0;34m\u001b[0m\u001b[0;34m\u001b[0m\u001b[0;34m\u001b[0m\u001b[0m\n",
      "\u001b[0;32m/opt/conda/lib/python3.7/site-packages/google/cloud/aiplatform/jobs.py\u001b[0m in \u001b[0;36mrun\u001b[0;34m(self, service_account, network, timeout, restart_job_on_worker_restart, enable_web_access, tensorboard, sync, create_request_timeout)\u001b[0m\n\u001b[1;32m   1990\u001b[0m             \u001b[0mparent\u001b[0m\u001b[0;34m=\u001b[0m\u001b[0mself\u001b[0m\u001b[0;34m.\u001b[0m\u001b[0m_parent\u001b[0m\u001b[0;34m,\u001b[0m\u001b[0;34m\u001b[0m\u001b[0;34m\u001b[0m\u001b[0m\n\u001b[1;32m   1991\u001b[0m             \u001b[0mhyperparameter_tuning_job\u001b[0m\u001b[0;34m=\u001b[0m\u001b[0mself\u001b[0m\u001b[0;34m.\u001b[0m\u001b[0m_gca_resource\u001b[0m\u001b[0;34m,\u001b[0m\u001b[0;34m\u001b[0m\u001b[0;34m\u001b[0m\u001b[0m\n\u001b[0;32m-> 1992\u001b[0;31m             \u001b[0mtimeout\u001b[0m\u001b[0;34m=\u001b[0m\u001b[0mcreate_request_timeout\u001b[0m\u001b[0;34m,\u001b[0m\u001b[0;34m\u001b[0m\u001b[0;34m\u001b[0m\u001b[0m\n\u001b[0m\u001b[1;32m   1993\u001b[0m         )\n\u001b[1;32m   1994\u001b[0m \u001b[0;34m\u001b[0m\u001b[0m\n",
      "\u001b[0;32m/opt/conda/lib/python3.7/site-packages/google/cloud/aiplatform_v1/services/job_service/client.py\u001b[0m in \u001b[0;36mcreate_hyperparameter_tuning_job\u001b[0;34m(self, request, parent, hyperparameter_tuning_job, retry, timeout, metadata)\u001b[0m\n\u001b[1;32m   1940\u001b[0m             \u001b[0mretry\u001b[0m\u001b[0;34m=\u001b[0m\u001b[0mretry\u001b[0m\u001b[0;34m,\u001b[0m\u001b[0;34m\u001b[0m\u001b[0;34m\u001b[0m\u001b[0m\n\u001b[1;32m   1941\u001b[0m             \u001b[0mtimeout\u001b[0m\u001b[0;34m=\u001b[0m\u001b[0mtimeout\u001b[0m\u001b[0;34m,\u001b[0m\u001b[0;34m\u001b[0m\u001b[0;34m\u001b[0m\u001b[0m\n\u001b[0;32m-> 1942\u001b[0;31m             \u001b[0mmetadata\u001b[0m\u001b[0;34m=\u001b[0m\u001b[0mmetadata\u001b[0m\u001b[0;34m,\u001b[0m\u001b[0;34m\u001b[0m\u001b[0;34m\u001b[0m\u001b[0m\n\u001b[0m\u001b[1;32m   1943\u001b[0m         )\n\u001b[1;32m   1944\u001b[0m \u001b[0;34m\u001b[0m\u001b[0m\n",
      "\u001b[0;32m/opt/conda/lib/python3.7/site-packages/google/api_core/gapic_v1/method.py\u001b[0m in \u001b[0;36m__call__\u001b[0;34m(self, timeout, retry, *args, **kwargs)\u001b[0m\n\u001b[1;32m    152\u001b[0m             \u001b[0mkwargs\u001b[0m\u001b[0;34m[\u001b[0m\u001b[0;34m\"metadata\"\u001b[0m\u001b[0;34m]\u001b[0m \u001b[0;34m=\u001b[0m \u001b[0mmetadata\u001b[0m\u001b[0;34m\u001b[0m\u001b[0;34m\u001b[0m\u001b[0m\n\u001b[1;32m    153\u001b[0m \u001b[0;34m\u001b[0m\u001b[0m\n\u001b[0;32m--> 154\u001b[0;31m         \u001b[0;32mreturn\u001b[0m \u001b[0mwrapped_func\u001b[0m\u001b[0;34m(\u001b[0m\u001b[0;34m*\u001b[0m\u001b[0margs\u001b[0m\u001b[0;34m,\u001b[0m \u001b[0;34m**\u001b[0m\u001b[0mkwargs\u001b[0m\u001b[0;34m)\u001b[0m\u001b[0;34m\u001b[0m\u001b[0;34m\u001b[0m\u001b[0m\n\u001b[0m\u001b[1;32m    155\u001b[0m \u001b[0;34m\u001b[0m\u001b[0m\n\u001b[1;32m    156\u001b[0m \u001b[0;34m\u001b[0m\u001b[0m\n",
      "\u001b[0;32m/opt/conda/lib/python3.7/site-packages/google/api_core/grpc_helpers.py\u001b[0m in \u001b[0;36merror_remapped_callable\u001b[0;34m(*args, **kwargs)\u001b[0m\n\u001b[1;32m     57\u001b[0m             \u001b[0;32mreturn\u001b[0m \u001b[0mcallable_\u001b[0m\u001b[0;34m(\u001b[0m\u001b[0;34m*\u001b[0m\u001b[0margs\u001b[0m\u001b[0;34m,\u001b[0m \u001b[0;34m**\u001b[0m\u001b[0mkwargs\u001b[0m\u001b[0;34m)\u001b[0m\u001b[0;34m\u001b[0m\u001b[0;34m\u001b[0m\u001b[0m\n\u001b[1;32m     58\u001b[0m         \u001b[0;32mexcept\u001b[0m \u001b[0mgrpc\u001b[0m\u001b[0;34m.\u001b[0m\u001b[0mRpcError\u001b[0m \u001b[0;32mas\u001b[0m \u001b[0mexc\u001b[0m\u001b[0;34m:\u001b[0m\u001b[0;34m\u001b[0m\u001b[0;34m\u001b[0m\u001b[0m\n\u001b[0;32m---> 59\u001b[0;31m             \u001b[0;32mraise\u001b[0m \u001b[0mexceptions\u001b[0m\u001b[0;34m.\u001b[0m\u001b[0mfrom_grpc_error\u001b[0m\u001b[0;34m(\u001b[0m\u001b[0mexc\u001b[0m\u001b[0;34m)\u001b[0m \u001b[0;32mfrom\u001b[0m \u001b[0mexc\u001b[0m\u001b[0;34m\u001b[0m\u001b[0;34m\u001b[0m\u001b[0m\n\u001b[0m\u001b[1;32m     60\u001b[0m \u001b[0;34m\u001b[0m\u001b[0m\n\u001b[1;32m     61\u001b[0m     \u001b[0;32mreturn\u001b[0m \u001b[0merror_remapped_callable\u001b[0m\u001b[0;34m\u001b[0m\u001b[0;34m\u001b[0m\u001b[0m\n",
      "\u001b[0;31mInvalidArgument\u001b[0m: 400 List of found errors:\t1.Field: hyperparameter_tuning_job.trial_job_spec.worker_pool_specs[0].container_spec.image_uri; Message: Invalid image URI.\t [field_violations {\n  field: \"hyperparameter_tuning_job.trial_job_spec.worker_pool_specs[0].container_spec.image_uri\"\n  description: \"Invalid image URI.\"\n}\n]"
     ]
    }
   ],
   "source": [
    "hp_job = aiplatform.HyperparameterTuningJob(\n",
    "    display_name='horses-humans-sdk-job',\n",
    "    custom_job=my_custom_job,\n",
    "    metric_spec=metric_spec,\n",
    "    parameter_spec=parameter_spec,\n",
    "    max_trial_count=15,\n",
    "    parallel_trial_count=3)\n",
    "hp_job.run()"
   ]
  },
  {
   "cell_type": "code",
   "execution_count": null,
   "id": "f946f3e7-19d7-4649-89b9-4f8d8df8d0a0",
   "metadata": {},
   "outputs": [],
   "source": []
  }
 ],
 "metadata": {
  "environment": {
   "kernel": "python3",
   "name": "tf2-gpu.2-6.m96",
   "type": "gcloud",
   "uri": "gcr.io/deeplearning-platform-release/tf2-gpu.2-6:m96"
  },
  "kernelspec": {
   "display_name": "Python 3",
   "language": "python",
   "name": "python3"
  },
  "language_info": {
   "codemirror_mode": {
    "name": "ipython",
    "version": 3
   },
   "file_extension": ".py",
   "mimetype": "text/x-python",
   "name": "python",
   "nbconvert_exporter": "python",
   "pygments_lexer": "ipython3",
   "version": "3.7.12"
  }
 },
 "nbformat": 4,
 "nbformat_minor": 5
}
