{
 "cells": [
  {
   "cell_type": "code",
   "execution_count": 0,
   "metadata": {
    "application/vnd.databricks.v1+cell": {
     "cellMetadata": {
      "byteLimit": 2048000,
      "rowLimit": 10000
     },
     "inputWidgets": {},
     "nuid": "91b9aeb8-88a7-42ef-bdb0-6661b7054f5a",
     "showTitle": false,
     "title": ""
    }
   },
   "outputs": [],
   "source": [
    "import os \n",
    "import pandas  as pd \n",
    "import numpy   as np\n",
    "from matplotlib import pyplot as plt\n",
    "import seaborn as sns\n",
    "\n",
    "import statsmodels.api as sm\n",
    "import statsmodels.formula.api as smf"
   ]
  },
  {
   "cell_type": "code",
   "execution_count": 0,
   "metadata": {
    "application/vnd.databricks.v1+cell": {
     "cellMetadata": {
      "byteLimit": 2048000,
      "rowLimit": 10000
     },
     "inputWidgets": {},
     "nuid": "bf6496e0-8d1c-488a-9d38-ceb39d8012fe",
     "showTitle": false,
     "title": ""
    }
   },
   "outputs": [],
   "source": [
    "df = pd.read_csv('/dbfs/FileStore/tables/USA_Housing.csv')\n",
    "df.head()"
   ]
  },
  {
   "cell_type": "code",
   "execution_count": 0,
   "metadata": {
    "application/vnd.databricks.v1+cell": {
     "cellMetadata": {
      "byteLimit": 2048000,
      "rowLimit": 10000
     },
     "inputWidgets": {},
     "nuid": "7d941592-a16d-47a2-b9b6-ead79cba45f4",
     "showTitle": false,
     "title": ""
    }
   },
   "outputs": [],
   "source": [
    "df[\"Address\"] = df.Address.str.replace(\"\\n\", \"\")\n",
    "df.head()"
   ]
  },
  {
   "cell_type": "code",
   "execution_count": 0,
   "metadata": {
    "application/vnd.databricks.v1+cell": {
     "cellMetadata": {
      "byteLimit": 2048000,
      "rowLimit": 10000
     },
     "inputWidgets": {},
     "nuid": "5f1525e0-7cc3-4128-ac3f-338a9093878a",
     "showTitle": false,
     "title": ""
    }
   },
   "outputs": [],
   "source": [
    "df.info()"
   ]
  },
  {
   "cell_type": "code",
   "execution_count": 0,
   "metadata": {
    "application/vnd.databricks.v1+cell": {
     "cellMetadata": {
      "byteLimit": 2048000,
      "rowLimit": 10000
     },
     "inputWidgets": {},
     "nuid": "4174bc4b-30a7-4b78-8dc2-32a0f2a0ad1b",
     "showTitle": false,
     "title": ""
    }
   },
   "outputs": [],
   "source": [
    "df[\"zip_code\"] = df.Address.str.extract(r\"([0-9]{5}\\-{0,1}[0-9]{0,4}$)\", expand=True).replace(r\"\\-[0-9]{0,4}$\", \"\", regex=True)\n"
   ]
  },
  {
   "cell_type": "code",
   "execution_count": 0,
   "metadata": {
    "application/vnd.databricks.v1+cell": {
     "cellMetadata": {
      "byteLimit": 2048000,
      "rowLimit": 10000
     },
     "inputWidgets": {},
     "nuid": "b6b28157-c548-4673-a49e-da6f12e3a1cc",
     "showTitle": false,
     "title": ""
    }
   },
   "outputs": [],
   "source": [
    "df.head()\n"
   ]
  },
  {
   "cell_type": "code",
   "execution_count": 0,
   "metadata": {
    "application/vnd.databricks.v1+cell": {
     "cellMetadata": {
      "byteLimit": 2048000,
      "rowLimit": 10000
     },
     "inputWidgets": {},
     "nuid": "fa760ee8-41b9-4552-80f6-20b0f84301ea",
     "showTitle": false,
     "title": ""
    }
   },
   "outputs": [],
   "source": [
    "df.info()"
   ]
  },
  {
   "cell_type": "code",
   "execution_count": 0,
   "metadata": {
    "application/vnd.databricks.v1+cell": {
     "cellMetadata": {
      "byteLimit": 2048000,
      "rowLimit": 10000
     },
     "inputWidgets": {},
     "nuid": "51a457ec-8c22-40b2-8bc1-dca274755b82",
     "showTitle": false,
     "title": ""
    }
   },
   "outputs": [],
   "source": [
    "df[\"zip_code\"].value_counts"
   ]
  },
  {
   "cell_type": "code",
   "execution_count": 0,
   "metadata": {
    "application/vnd.databricks.v1+cell": {
     "cellMetadata": {
      "byteLimit": 2048000,
      "rowLimit": 10000
     },
     "inputWidgets": {},
     "nuid": "2739fbc4-e68e-4496-bd1a-fb8f92b4168d",
     "showTitle": false,
     "title": ""
    }
   },
   "outputs": [],
   "source": [
    "df['zip_code'] = df.zip_code.astype(\"int\")"
   ]
  },
  {
   "cell_type": "code",
   "execution_count": 0,
   "metadata": {
    "application/vnd.databricks.v1+cell": {
     "cellMetadata": {
      "byteLimit": 2048000,
      "rowLimit": 10000
     },
     "inputWidgets": {},
     "nuid": "28915cfe-8135-43ba-a196-570f04a79196",
     "showTitle": false,
     "title": ""
    }
   },
   "outputs": [],
   "source": [
    "df.zip_code.value_counts().max()"
   ]
  },
  {
   "cell_type": "code",
   "execution_count": 0,
   "metadata": {
    "application/vnd.databricks.v1+cell": {
     "cellMetadata": {
      "byteLimit": 2048000,
      "rowLimit": 10000
     },
     "inputWidgets": {},
     "nuid": "35eeae21-ad71-496e-9e51-59563208c676",
     "showTitle": false,
     "title": ""
    }
   },
   "outputs": [],
   "source": [
    "df.drop( columns = [\"zip_code\"], inplace=True)"
   ]
  },
  {
   "cell_type": "code",
   "execution_count": 0,
   "metadata": {
    "application/vnd.databricks.v1+cell": {
     "cellMetadata": {
      "byteLimit": 2048000,
      "rowLimit": 10000
     },
     "inputWidgets": {},
     "nuid": "a3c75050-07bf-4446-a065-efddb826b765",
     "showTitle": false,
     "title": ""
    }
   },
   "outputs": [],
   "source": [
    "df.drop_duplicates(inplace=True)"
   ]
  },
  {
   "cell_type": "code",
   "execution_count": 0,
   "metadata": {
    "application/vnd.databricks.v1+cell": {
     "cellMetadata": {
      "byteLimit": 2048000,
      "rowLimit": 10000
     },
     "inputWidgets": {},
     "nuid": "0ff4064c-741f-4656-b812-19fab907a0a7",
     "showTitle": false,
     "title": ""
    }
   },
   "outputs": [],
   "source": [
    "df.info()"
   ]
  },
  {
   "cell_type": "code",
   "execution_count": 0,
   "metadata": {
    "application/vnd.databricks.v1+cell": {
     "cellMetadata": {
      "byteLimit": 2048000,
      "rowLimit": 10000
     },
     "inputWidgets": {},
     "nuid": "0611d184-375b-46e7-a0b1-fde9750ab5e2",
     "showTitle": false,
     "title": ""
    }
   },
   "outputs": [],
   "source": [
    "df.rename( columns = { col: col.lower().strip().replace(\" \", \"_\") for col in df.columns}, inplace=True)"
   ]
  },
  {
   "cell_type": "code",
   "execution_count": 0,
   "metadata": {
    "application/vnd.databricks.v1+cell": {
     "cellMetadata": {
      "byteLimit": 2048000,
      "rowLimit": 10000
     },
     "inputWidgets": {},
     "nuid": "1ac65263-29fc-41b9-a25b-2fd35ffdf02f",
     "showTitle": false,
     "title": ""
    }
   },
   "outputs": [],
   "source": [
    "df.columns"
   ]
  },
  {
   "cell_type": "code",
   "execution_count": 0,
   "metadata": {
    "application/vnd.databricks.v1+cell": {
     "cellMetadata": {
      "byteLimit": 2048000,
      "rowLimit": 10000
     },
     "inputWidgets": {},
     "nuid": "999ee3cd-eb54-4c0a-95e5-c994f89f118d",
     "showTitle": false,
     "title": ""
    }
   },
   "outputs": [],
   "source": [
    "sns.histplot(df, x=\"price\")"
   ]
  },
  {
   "cell_type": "code",
   "execution_count": 0,
   "metadata": {
    "application/vnd.databricks.v1+cell": {
     "cellMetadata": {
      "byteLimit": 2048000,
      "rowLimit": 10000
     },
     "inputWidgets": {},
     "nuid": "0ea332f1-e3bd-47ad-afd4-0af261e0c9b9",
     "showTitle": false,
     "title": ""
    }
   },
   "outputs": [],
   "source": [
    "df.price.skew()"
   ]
  },
  {
   "cell_type": "code",
   "execution_count": 0,
   "metadata": {
    "application/vnd.databricks.v1+cell": {
     "cellMetadata": {
      "byteLimit": 2048000,
      "rowLimit": 10000
     },
     "inputWidgets": {},
     "nuid": "a60e73a5-4268-42b8-b157-964026134a0b",
     "showTitle": false,
     "title": ""
    }
   },
   "outputs": [],
   "source": [
    "df.describe()"
   ]
  },
  {
   "cell_type": "code",
   "execution_count": 0,
   "metadata": {
    "application/vnd.databricks.v1+cell": {
     "cellMetadata": {
      "byteLimit": 2048000,
      "rowLimit": 10000
     },
     "inputWidgets": {},
     "nuid": "a255f1fc-eaf2-4631-b43a-224ebee9b6cd",
     "showTitle": false,
     "title": ""
    }
   },
   "outputs": [],
   "source": [
    "sns.pairplot(df)"
   ]
  },
  {
   "cell_type": "code",
   "execution_count": 0,
   "metadata": {
    "application/vnd.databricks.v1+cell": {
     "cellMetadata": {
      "byteLimit": 2048000,
      "rowLimit": 10000
     },
     "inputWidgets": {},
     "nuid": "abd415ca-431d-4691-b809-4c78526871d5",
     "showTitle": false,
     "title": ""
    }
   },
   "outputs": [],
   "source": [
    "column_list = df.columns.to_list()\n",
    "column_list.remove('price')\n",
    "column_list.remove('address')\n",
    "indp_vars = '+'.join(column_list)\n",
    "indp_vars"
   ]
  },
  {
   "cell_type": "code",
   "execution_count": 0,
   "metadata": {
    "application/vnd.databricks.v1+cell": {
     "cellMetadata": {
      "byteLimit": 2048000,
      "rowLimit": 10000
     },
     "inputWidgets": {},
     "nuid": "57ad7fce-8357-4d8e-ad2a-7a58d333d847",
     "showTitle": false,
     "title": ""
    }
   },
   "outputs": [],
   "source": [
    "\n",
    "\n",
    "inpd_vars = df.columns\n",
    "model = smf.ols(formula=f'price ~ {indp_vars}', data=df)\n",
    "result = model.fit()\n",
    "print(result.summary())\n"
   ]
  },
  {
   "cell_type": "code",
   "execution_count": 0,
   "metadata": {
    "application/vnd.databricks.v1+cell": {
     "cellMetadata": {
      "byteLimit": 2048000,
      "rowLimit": 10000
     },
     "inputWidgets": {},
     "nuid": "716b1a6d-1809-47bf-9f01-aef4b9977796",
     "showTitle": false,
     "title": ""
    }
   },
   "outputs": [],
   "source": [
    "##area_num_rooms appears insignifigant as p_value > 0.05 , removing then retrying \n",
    "\n",
    "column_list.remove('avg_area_number_of_bedrooms')\n",
    "indp_vars = '+'.join(column_list)\n",
    "model2 = smf.ols(formula=f'price ~ {indp_vars}', data=df)\n",
    "result2 = model2.fit()\n",
    "print(result2.summary())\n"
   ]
  },
  {
   "cell_type": "code",
   "execution_count": 0,
   "metadata": {
    "application/vnd.databricks.v1+cell": {
     "cellMetadata": {
      "byteLimit": 2048000,
      "rowLimit": 10000
     },
     "inputWidgets": {},
     "nuid": "49baf4e1-75e0-4472-8511-447f220ebe5a",
     "showTitle": false,
     "title": ""
    }
   },
   "outputs": [],
   "source": [
    "## all independent variables now now appear significant  as all p_values are now close to zero with a high  R-squared value of 0.918. \n",
    "## message suggests multicolinearity so we'll check it using the Variance Inflation Fcator \n",
    "\n",
    "from statsmodels.tools.tools               import add_constant\n",
    "from statsmodels.stats.outliers_influence  import variance_inflation_factor as vif\n",
    "\n",
    "df_vif = df.drop(columns=['price', 'address', 'avg_area_number_of_bedrooms'])\n",
    "df_vif = add_constant(df_vif)\n",
    "for i in range(len(df_vif.columns)):\n",
    "    print(df_vif.columns[i], vif(df_vif.values, i))\n"
   ]
  },
  {
   "cell_type": "code",
   "execution_count": 0,
   "metadata": {
    "application/vnd.databricks.v1+cell": {
     "cellMetadata": {
      "byteLimit": 2048000,
      "rowLimit": 10000
     },
     "inputWidgets": {},
     "nuid": "009bbc13-a3a2-4668-b286-cefb2204a375",
     "showTitle": false,
     "title": ""
    }
   },
   "outputs": [],
   "source": [
    "## none of the features returned a VIF > 5 so we'll keep all of them."
   ]
  },
  {
   "cell_type": "code",
   "execution_count": 0,
   "metadata": {
    "application/vnd.databricks.v1+cell": {
     "cellMetadata": {
      "byteLimit": 2048000,
      "rowLimit": 10000
     },
     "inputWidgets": {},
     "nuid": "4996f730-9e7b-48a5-83a5-689aa5e22736",
     "showTitle": false,
     "title": ""
    }
   },
   "outputs": [],
   "source": []
  },
  {
   "cell_type": "code",
   "execution_count": 0,
   "metadata": {
    "application/vnd.databricks.v1+cell": {
     "cellMetadata": {
      "byteLimit": 2048000,
      "rowLimit": 10000
     },
     "inputWidgets": {},
     "nuid": "7cbc1ba7-91b8-4b12-b189-52eda65685e4",
     "showTitle": false,
     "title": ""
    }
   },
   "outputs": [],
   "source": [
    "## train a model using sklearn ##\n",
    "from sklearn.model_selection import train_test_split \n",
    "from sklearn.linear_model import LinearRegression\n",
    "from sklearn.metrics import mean_squared_error, mean_absolute_error\n",
    "\n",
    "\n",
    "X_train, X_test,y_train, y_test = train_test_split(df[column_list], df['price'], test_size=0.75, random_state = 0)\n",
    "\n",
    "clf = LinearRegression()\n",
    "clf.fit(X_train, y_train)\n",
    "coeff_of_det_tr = clf.score(X_train, y_train)\n",
    "coeff_of_det_tst = clf.score(X_test, y_test)\n",
    "\n",
    "print(f\"COD train: {coeff_of_det_tr}\")\n",
    "print(f\"COD test: {coeff_of_det_tst}\")     \n",
    "preds = clf.predict(X_test)\n",
    "mae   = mean_absolute_error(y_test, preds)\n",
    "mse   = mean_squared_error(y_test, preds)\n",
    "rmse  = mse**0.5\n",
    "\n",
    "print(\"Metrics\", mae, mse, rmse)\n"
   ]
  },
  {
   "cell_type": "code",
   "execution_count": 0,
   "metadata": {
    "application/vnd.databricks.v1+cell": {
     "cellMetadata": {
      "byteLimit": 2048000,
      "rowLimit": 10000
     },
     "inputWidgets": {},
     "nuid": "c9f60490-9cf4-4800-8858-f1f42f23ec49",
     "showTitle": false,
     "title": ""
    }
   },
   "outputs": [],
   "source": []
  }
 ],
 "metadata": {
  "application/vnd.databricks.v1+notebook": {
   "dashboards": [
    {
     "elements": [],
     "globalVars": {},
     "guid": "",
     "layoutOption": {
      "grid": true,
      "stack": true
     },
     "nuid": "69d39256-0a45-4300-86ac-e0e5f214ff1f",
     "origId": 3600263685788700,
     "title": "Untitled",
     "version": "DashboardViewV1",
     "width": 1024
    }
   ],
   "language": "python",
   "notebookMetadata": {
    "pythonIndentUnit": 4
   },
   "notebookName": "Python Linear Regression Notebook 2024-01-03 06:17:29",
   "widgets": {}
  }
 },
 "nbformat": 4,
 "nbformat_minor": 0
}
