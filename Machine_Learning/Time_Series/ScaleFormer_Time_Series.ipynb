{
  "cells": [
    {
      "cell_type": "markdown",
      "source": [
        "<h1>ScaleFormer - Time Series Analysis Using Transformers </h1>\n",
        "<h2>By Edwin Tembo - 2023 </h2>\n",
        "Source: https://github.com/borealisai/scaleformer <br>\n",
        "Paper : https://arxiv.org/abs/2206.04038   <br>\n",
        "\n",
        "**Output removed for Privacy**\n"
      ],
      "metadata": {
        "id": "BLAhNoWVGYsr"
      }
    },
    {
      "cell_type": "code",
      "execution_count": null,
      "metadata": {
        "id": "rtvlenrcmFgQ"
      },
      "outputs": [],
      "source": [
        "!git clone https://github.com/BorealisAI/scaleformer.git\n",
        "!cd scaleformer\n"
      ]
    },
    {
      "cell_type": "code",
      "execution_count": null,
      "metadata": {
        "id": "5Ls20bbSoOXU"
      },
      "outputs": [],
      "source": [
        "! sudo apt upgrade"
      ]
    },
    {
      "cell_type": "code",
      "execution_count": null,
      "metadata": {
        "id": "2Tsc4rcPmw8L"
      },
      "outputs": [],
      "source": [
        "!pip install -r /content/drive/MyDrive/ScaleFormer/src/scaleformer/requirements.txt"
      ]
    },
    {
      "cell_type": "markdown",
      "source": [],
      "metadata": {
        "id": "CDXHWN-QGVdw"
      }
    },
    {
      "cell_type": "code",
      "execution_count": null,
      "metadata": {
        "colab": {
          "background_save": true
        },
        "id": "H7V9zaeaqm4n"
      },
      "outputs": [],
      "source": [
        "!python -u /content/scaleformer/run.py --data_path '{DATA_CSV}' --model FEDformerMS --pred_len 96 --loss adaptive  --enc_in 7  --dec_in 7 --c_out 7"
      ]
    }
  ],
  "metadata": {
    "colab": {
      "machine_shape": "hm",
      "provenance": []
    },
    "gpuClass": "standard",
    "kernelspec": {
      "display_name": "Python 3",
      "name": "python3"
    },
    "language_info": {
      "name": "python"
    }
  },
  "nbformat": 4,
  "nbformat_minor": 0
}